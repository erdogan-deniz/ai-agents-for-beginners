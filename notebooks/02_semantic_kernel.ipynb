{
 "cells": [
  {
   "cell_type": "markdown",
   "metadata": {},
   "source": [
    "# Semantic Kernel"
   ]
  },
  {
   "cell_type": "markdown",
   "metadata": {},
   "source": [
    "In this code sample, you will use the [**Semantic Kernel**](https://aka.ms/ai-agents-beginners/semantic-kernel) **AI** framework to create a basic agent.\n",
    "The goal of this sample is to show you the steps that we will later use in the additional code samples when implementing the different agentic patterns."
   ]
  },
  {
   "cell_type": "markdown",
   "metadata": {},
   "source": [
    "## Prepare the project"
   ]
  },
  {
   "cell_type": "markdown",
   "metadata": {},
   "source": [
    "Import necessary packages:"
   ]
  },
  {
   "cell_type": "code",
   "execution_count": 1,
   "metadata": {},
   "outputs": [],
   "source": [
    "import os\n",
    "import json"
   ]
  },
  {
   "cell_type": "markdown",
   "metadata": {},
   "source": [
    "Import necessary entities:"
   ]
  },
  {
   "cell_type": "code",
   "execution_count": null,
   "metadata": {},
   "outputs": [],
   "source": [
    "from random import choice\n",
    "from typing import Annotated\n",
    "from dotenv import load_dotenv\n",
    "from openai import AsyncOpenAI\n",
    "from json import JSONDecodeError\n",
    "from IPython.display import HTML, display\n",
    "from semantic_kernel.functions import kernel_function\n",
    "from semantic_kernel.connectors.ai.open_ai import OpenAIChatCompletion\n",
    "from semantic_kernel.agents import ChatCompletionAgent, ChatHistoryAgentThread\n",
    "from semantic_kernel.contents import (\n",
    "    FunctionCallContent,\n",
    "    StreamingTextContent,\n",
    "    FunctionResultContent,\n",
    ")"
   ]
  },
  {
   "cell_type": "markdown",
   "metadata": {},
   "source": [
    "Load enviroment for using a system variables:"
   ]
  },
  {
   "cell_type": "code",
   "execution_count": 3,
   "metadata": {},
   "outputs": [],
   "source": [
    "load_dotenv();"
   ]
  },
  {
   "cell_type": "markdown",
   "metadata": {},
   "source": [
    "## Prepare agent functionality"
   ]
  },
  {
   "cell_type": "markdown",
   "metadata": {},
   "source": [
    "In this sample, we will use [**GitHub** models](https://aka.ms/ai-agents-beginners/github-models) for access to the **LLM**.\n",
    "The `ai_model_id` is defined as `gpt-4o-mini`.\n",
    "Try changing the model to another model available on the **GitHub** models marketplace to see the different results.\n",
    "For us to use the `Azure Inference SDK` that is used for the `base_url` for **GitHub** models, we will use the `OpenAIChatCompletion` connector within **Semantic Kernel**.\n",
    "There are also other [available connectors](https://learn.microsoft.com/semantic-kernel/concepts/ai-services/chat-completion) to use **Semantic Kernel** for other model providers."
   ]
  },
  {
   "cell_type": "markdown",
   "metadata": {},
   "source": [
    "Prepare a list of vacation destinations:"
   ]
  },
  {
   "cell_type": "code",
   "execution_count": 4,
   "metadata": {},
   "outputs": [],
   "source": [
    "vacation_destinations: list[str] = [\n",
    "    \"Tokyo, Japan\",\n",
    "    \"Cairo, Egypt\",\n",
    "    \"Paris, France\",\n",
    "    \"New York, USA\",\n",
    "    \"Berlin, Germany\",\n",
    "    \"Bali, Indonesia\",\n",
    "    \"Barcelona, Spain\",\n",
    "    \"Sydney, Australia\",\n",
    "    \"Rio de Janeiro, Brazil\",\n",
    "    \"Cape Town, South Africa\",\n",
    "]"
   ]
  },
  {
   "cell_type": "markdown",
   "metadata": {},
   "source": [
    "Create a plugin class:"
   ]
  },
  {
   "cell_type": "code",
   "execution_count": 5,
   "metadata": {},
   "outputs": [],
   "source": [
    "class DestinationsPlugin:\n",
    "    \"\"\"\n",
    "    A plugin that manages and provides vacation destinations.\n",
    "\n",
    "    :Attributes:\n",
    "        last_destination (str | None): The last destination that was returned.\n",
    "                                       Default: None.\n",
    "        vacation_destinations (list[str]): The list of available destinations.\n",
    "    \"\"\"\n",
    "\n",
    "    def __init__(self, vacation_destinations: list[str]) -> None:\n",
    "        \"\"\"\n",
    "        Initializes the `DestinationsPlugin` with a list of destinations.\n",
    "\n",
    "        :Parameters:\n",
    "            vacation_destinations (list[str]): The list of available\n",
    "                                               destinations.\n",
    "        \"\"\"\n",
    "\n",
    "        self.last_destination: str | None = None\n",
    "        self.vacation_destinations: list[str] = vacation_destinations\n",
    "\n",
    "    @kernel_function(description=\"Returns a random vacation destination.\")\n",
    "    def get_random_vacation_destination(\n",
    "        self\n",
    "    ) -> Annotated[str, \"Returns a random vacation destination.\"]:\n",
    "        \"\"\"\n",
    "        Selects and returns a random vacation destination from the available\n",
    "        options.\n",
    "\n",
    "        :Returns:\n",
    "            str: A randomly selected vacation destination.\n",
    "        \"\"\"\n",
    "\n",
    "        available_destinations: list[str] = self.vacation_destinations.copy()\n",
    "\n",
    "        if self.last_destination and (len(available_destinations, ) > 1):\n",
    "            available_destinations.remove(self.last_destination, )\n",
    "\n",
    "        self.last_destination = choice(available_destinations, )\n",
    "\n",
    "        return self.last_destination"
   ]
  },
  {
   "cell_type": "markdown",
   "metadata": {},
   "source": [
    "## Create a client"
   ]
  },
  {
   "cell_type": "markdown",
   "metadata": {},
   "source": [
    "Create a client instance:"
   ]
  },
  {
   "cell_type": "code",
   "execution_count": 6,
   "metadata": {},
   "outputs": [],
   "source": [
    "client: AsyncOpenAI = AsyncOpenAI(\n",
    "    api_key=os.environ.get(\"GITHUB_TOKEN\", ),\n",
    "    base_url=\"https://models.inference.ai.azure.com/\",\n",
    ")"
   ]
  },
  {
   "cell_type": "markdown",
   "metadata": {},
   "source": [
    "Create an **AI** service that will be used by the `ChatCompletionAgent`:"
   ]
  },
  {
   "cell_type": "code",
   "execution_count": 7,
   "metadata": {},
   "outputs": [],
   "source": [
    "chat_completion_service: OpenAIChatCompletion = OpenAIChatCompletion(\n",
    "    ai_model_id=\"gpt-4o-mini\",\n",
    "    async_client=client,\n",
    ")"
   ]
  },
  {
   "cell_type": "markdown",
   "metadata": {},
   "source": [
    "## Creating the agent"
   ]
  },
  {
   "cell_type": "markdown",
   "metadata": {},
   "source": [
    "Below we create the agent called `TravelAgent`.\n",
    "For this example, we are using very simple instructions.\n",
    "You can change these instructions to see how the agent responds differently."
   ]
  },
  {
   "cell_type": "code",
   "execution_count": 8,
   "metadata": {},
   "outputs": [],
   "source": [
    "agent: ChatCompletionAgent = ChatCompletionAgent(\n",
    "    service=chat_completion_service,\n",
    "    plugins=[\n",
    "        DestinationsPlugin(vacation_destinations=vacation_destinations, ),\n",
    "    ],\n",
    "    name=\"TravelAgent\",\n",
    "    instructions=\"You are a helpful AI agent that can help plan vacations for\" +\n",
    "                 \" customers at random destinations.\",\n",
    ")"
   ]
  },
  {
   "cell_type": "markdown",
   "metadata": {},
   "source": [
    "## Running the agent"
   ]
  },
  {
   "cell_type": "markdown",
   "metadata": {},
   "source": [
    "Now we can run the agent by defining the `ChatHistory` and adding the `system_message` to it.\n",
    "We will use the `AGENT_INSTRUCTIONS` that we defined earlier.\n",
    "After these are defined, we create a `user_inputs` that will be what the user is sending to the agent.\n",
    "In this case, we have set this message to `Plan me a sunny vacation.`.\n",
    "Feel free to change this message to see how the agent responds differently."
   ]
  },
  {
   "cell_type": "markdown",
   "metadata": {},
   "source": [
    "Create an user inputs:"
   ]
  },
  {
   "cell_type": "code",
   "execution_count": 9,
   "metadata": {},
   "outputs": [],
   "source": [
    "user_inputs: list[str] = [\n",
    "    \"Plan me a day trip.\",\n",
    "    \"I don't like that destination. Plan me another vacation.\",\n",
    "]"
   ]
  },
  {
   "cell_type": "markdown",
   "metadata": {},
   "source": [
    "Create a workflow function:"
   ]
  },
  {
   "cell_type": "code",
   "execution_count": null,
   "metadata": {},
   "outputs": [],
   "source": [
    "async def main() -> None:\n",
    "    \"\"\"\n",
    "    Executes a streaming conversation with an AI agent, rendering both text\n",
    "    responses and function calls in an interactive HTML format.\n",
    "\n",
    "    :Raises:\n",
    "        JSONDecodeError: If function arguments are malformed JSON\n",
    "        RuntimeError: If streaming fails or HTML rendering unavailable\n",
    "    \"\"\"\n",
    "\n",
    "    thread: ChatHistoryAgentThread | None = None\n",
    "\n",
    "    for user_input in user_inputs:\n",
    "        argument_buffer: str = \"\"\n",
    "        html_output: str = (\n",
    "            f\"<div style='margin-bottom:10px'>\" +\n",
    "            f\"<div style='font-weight:bold'>User:</div>\" +\n",
    "            f\"<div style='margin-left:20px'>{user_input}</div></div>\"\n",
    "        )\n",
    "        agent_name: str | None = None\n",
    "        full_response: list[str] = []\n",
    "        function_calls: list[str] = []\n",
    "        current_function_name: str | None = None\n",
    "\n",
    "        async for response in agent.invoke_stream(\n",
    "            messages=user_input,\n",
    "            thread=thread,\n",
    "        ):\n",
    "            thread = response.thread\n",
    "            agent_name = response.name\n",
    "            content_items: list = list(response.items, )\n",
    "\n",
    "            for item in content_items:\n",
    "                if isinstance(item, FunctionCallContent, ):\n",
    "                    if item.function_name:\n",
    "                        current_function_name = item.function_name\n",
    "\n",
    "                    if isinstance(item.arguments, str, ):\n",
    "                        argument_buffer += item.arguments\n",
    "                elif isinstance(item, FunctionResultContent, ):\n",
    "                    if current_function_name:\n",
    "                        formatted_args: str = argument_buffer.strip()\n",
    "\n",
    "                        try:\n",
    "                            parsed_args: dict = json.loads(formatted_args, )\n",
    "                            formatted_args = json.dumps(parsed_args, )\n",
    "                        except JSONDecodeError as json_dec_err:\n",
    "                            function_calls.append(f\"⚠️ Invalid JSON arguments: {str(e)}\")\n",
    "                            formatted_args = argument_buffer  # Fallback: show raw text\n",
    "                        except TypeError as e:\n",
    "                            function_calls.append(f\"⚠️ Arguments must be a string: {str(e)}\")\n",
    "\n",
    "                        function_calls.append(\n",
    "                            \"Calling function:\" +\n",
    "                            f\"{current_function_name}({formatted_args})\",\n",
    "                        )\n",
    "\n",
    "                        current_function_name = None\n",
    "                        argument_buffer = \"\"\n",
    "\n",
    "                    function_calls.append(\n",
    "                        f\"\\nFunction Result:\\n\\n{item.result}\",\n",
    "                    )\n",
    "                elif isinstance(item, StreamingTextContent, ) and item.text:\n",
    "                    full_response.append(item.text, )\n",
    "\n",
    "        if function_calls:\n",
    "            html_output += (\n",
    "                \"<div style='margin-bottom:10px'>\"\n",
    "                \"<details>\"\n",
    "                \"<summary style='cursor:pointer; font-weight:bold; color:#0066cc;'>Function Calls (click to expand)</summary>\"\n",
    "                \"<div style='margin:10px; padding:10px; background-color:#f8f8f8; \"\n",
    "                \"border:1px solid #ddd; border-radius:4px; white-space:pre-wrap; font-size:14px; color:#333;'>\"\n",
    "                f\"{chr(10).join(function_calls)}\"\n",
    "                \"</div></details></div>\"\n",
    "            )\n",
    "\n",
    "        html_output += (\n",
    "            \"<div style='margin-bottom:20px'>\"\n",
    "            f\"<div style='font-weight:bold'>{agent_name or 'Assistant'}:</div>\"\n",
    "            f\"<div style='margin-left:20px; white-space:pre-wrap'>{''.join(full_response)}</div></div><hr>\"\n",
    "        )\n",
    "\n",
    "        display(HTML(html_output, ), )\n"
   ]
  },
  {
   "cell_type": "markdown",
   "metadata": {},
   "source": [
    "Launch the agent workflow:"
   ]
  },
  {
   "cell_type": "code",
   "execution_count": 11,
   "metadata": {},
   "outputs": [
    {
     "data": {
      "text/html": [
       "<div style='margin-bottom:10px'><div style='font-weight:bold'>User:</div><div style='margin-left:20px'>Plan me a day trip.</div></div><div style='margin-bottom:20px'><div style='font-weight:bold'>TravelAgent:</div><div style='margin-left:20px; white-space:pre-wrap'>How about a day trip to Paris, France? Here's a suggested itinerary for your adventure:\n",
       "\n",
       "### Morning:\n",
       "- **Breakfast at a Local Café**: Start your day with a traditional French breakfast featuring croissants, pain au chocolat, and a café au lait.\n",
       "- **Visit the Eiffel Tower**: Arrive early to avoid long lines. Take an elevator to the top for a breathtaking view of the city.\n",
       "\n",
       "### Midday:\n",
       "- **Louvre Museum**: Head over to the Louvre to see world-famous art, including the Mona Lisa and the Venus de Milo. Spend around 2-3 hours exploring the museum.\n",
       "- **Lunch in Le Marais**: Enjoy lunch at a bistro or a café in the trendy Le Marais district. Try some classic French dishes or a delicious crepe.\n",
       "\n",
       "### Afternoon:\n",
       "- **Walk Along the Seine**: Stroll along the Seine River and take in the beautiful sights. You might stop by the Notre-Dame Cathedral (currently under restoration, but still a sight to see from the outside).\n",
       "- **Ile de la Cité**: Visit the quaint Île de la Cité, explore the gardens, and enjoy some ice cream at Berthillon.\n",
       "\n",
       "### Evening:\n",
       "- **Montmartre & Sacré-Cœur**: Head to Montmartre and visit the basilica of Sacré-Cœur. Enjoy the panoramic view of the city at sunset.\n",
       "- **Dinner at a French Restaurant**: End your day with a lovely dinner at a traditional French restaurant. Consider trying coq au vin or boeuf bourguignon.\n",
       "\n",
       "### Optional Night Activity:\n",
       "- **Seine River Cruise**: End your trip with a relaxing Seine River cruise to see the illuminated landmarks of Paris.\n",
       "\n",
       "Feel free to adjust any part of the itinerary based on your interests and preferences!</div></div><hr>"
      ],
      "text/plain": [
       "<IPython.core.display.HTML object>"
      ]
     },
     "metadata": {},
     "output_type": "display_data"
    },
    {
     "data": {
      "text/html": [
       "<div style='margin-bottom:10px'><div style='font-weight:bold'>User:</div><div style='margin-left:20px'>I don't like that destination. Plan me another vacation.</div></div><div style='margin-bottom:20px'><div style='font-weight:bold'>TravelAgent:</div><div style='margin-left:20px; white-space:pre-wrap'>How about a day trip to New York City, USA? Here's a suggested itinerary for your adventure:\n",
       "\n",
       "### Morning:\n",
       "- **Breakfast at a Deli**: Start your day with a classic New York bagel and coffee from a local deli.\n",
       "- **Visit the Statue of Liberty**: Take a ferry from Battery Park to Liberty Island to see the iconic statue up close. If time allows, consider visiting Ellis Island as well.\n",
       "\n",
       "### Midday:\n",
       "- **Explore Lower Manhattan**: Visit the 9/11 Memorial & Museum and take a moment to reflect. Then, stroll through the Financial District and check out Wall Street.\n",
       "- **Lunch in Chinatown**: Enjoy a delicious lunch in Chinatown, trying some dumplings or hot pot at a local restaurant.\n",
       "\n",
       "### Afternoon:\n",
       "- **Walk Across the Brooklyn Bridge**: After lunch, walk across the Brooklyn Bridge for scenic views of the skyline and waterfront.\n",
       "- **DUMBO Exploration**: Arrive in DUMBO (Down Under the Manhattan Bridge Overpass) and take photos with the famous Manhattan view. Consider picking up a dessert from the famous Brooklyn Ice Cream Factory.\n",
       "\n",
       "### Evening:\n",
       "- **Dinner in Times Square**: Head back to Manhattan and enjoy dinner in the vibrant Times Square area. There are many dining options from casual to fine dining.\n",
       "- **Broadway Show**: End your day with a Broadway show. Be sure to book tickets in advance for popular performances!\n",
       "\n",
       "### Optional Night Activity:\n",
       "- **Top of the Rock or Empire State Building**: If you have time, consider visiting the Top of the Rock or the Empire State Building for breathtaking nighttime views of the city.\n",
       "\n",
       "This itinerary offers a mix of iconic sites, delicious food, and cultural experiences in the heart of New York City! Let me know if you would like adjustments or more details!</div></div><hr>"
      ],
      "text/plain": [
       "<IPython.core.display.HTML object>"
      ]
     },
     "metadata": {},
     "output_type": "display_data"
    }
   ],
   "source": [
    "await main()"
   ]
  }
 ],
 "metadata": {
  "kernelspec": {
   "display_name": ".venv",
   "language": "python",
   "name": "python3"
  },
  "language_info": {
   "codemirror_mode": {
    "name": "ipython",
    "version": 3
   },
   "file_extension": ".py",
   "mimetype": "text/x-python",
   "name": "python",
   "nbconvert_exporter": "python",
   "pygments_lexer": "ipython3",
   "version": "3.12.6"
  }
 },
 "nbformat": 4,
 "nbformat_minor": 2
}
