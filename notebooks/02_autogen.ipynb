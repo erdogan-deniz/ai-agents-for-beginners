{
 "cells": [
  {
   "cell_type": "markdown",
   "metadata": {},
   "source": [
    "# AutoGen"
   ]
  },
  {
   "cell_type": "markdown",
   "metadata": {},
   "source": [
    "In this code sample, you will use the [**AutoGen**](https://aka.ms/ai-agents/autogen) **AI** framework to create a basic agent.\n",
    "The goal of this sample is to show you the steps that we will later use in the additional code samples when implementing the different agentic patterns."
   ]
  },
  {
   "cell_type": "markdown",
   "metadata": {},
   "source": [
    "## Prepare the project"
   ]
  },
  {
   "cell_type": "markdown",
   "metadata": {},
   "source": [
    "Import necessary packages:"
   ]
  },
  {
   "cell_type": "code",
   "execution_count": 1,
   "metadata": {},
   "outputs": [],
   "source": [
    "import os"
   ]
  },
  {
   "cell_type": "markdown",
   "metadata": {},
   "source": [
    "Import necessary entities:"
   ]
  },
  {
   "cell_type": "code",
   "execution_count": 2,
   "metadata": {},
   "outputs": [],
   "source": [
    "from typing import Any\n",
    "from dotenv import load_dotenv\n",
    "from IPython.display import HTML, display\n",
    "from autogen_core import CancellationToken\n",
    "from autogen_agentchat.messages import TextMessage\n",
    "from autogen_agentchat.agents import AssistantAgent\n",
    "from azure.core.credentials import AzureKeyCredential\n",
    "from autogen_core.models import UserMessage, CreateResult\n",
    "from autogen_ext.models.azure import AzureAIChatCompletionClient"
   ]
  },
  {
   "cell_type": "markdown",
   "metadata": {},
   "source": [
    "Load enviroment for using a system variables:"
   ]
  },
  {
   "cell_type": "code",
   "execution_count": 3,
   "metadata": {},
   "outputs": [],
   "source": [
    "load_dotenv();"
   ]
  },
  {
   "cell_type": "markdown",
   "metadata": {},
   "source": [
    "## Work with a client"
   ]
  },
  {
   "cell_type": "markdown",
   "metadata": {},
   "source": [
    "In this sample, we will use [**GitHub** models](https://aka.ms/ai-agents-beginners/github-models) for access to the **LLM**.\n",
    "The `model` is defined as `gpt-4o-mini`.\n",
    "Try changing the model to another model available on the **GitHub** models marketplace to see the different results.\n",
    "As a quick test, we will just run a simple prompt - `What is the capital of France`."
   ]
  },
  {
   "cell_type": "markdown",
   "metadata": {},
   "source": [
    "Create the client:"
   ]
  },
  {
   "cell_type": "code",
   "execution_count": 4,
   "metadata": {},
   "outputs": [],
   "source": [
    "client: AzureAIChatCompletionClient = AzureAIChatCompletionClient(\n",
    "    model=\"gpt-4o-mini\",\n",
    "    endpoint=\"https://models.inference.ai.azure.com\",\n",
    "    credential=AzureKeyCredential(os.getenv(\"GITHUB_TOKEN\", ), ),\n",
    "    model_info={\n",
    "        \"vision\": True,\n",
    "        \"json_output\": True,\n",
    "        \"family\": \"unknown\",\n",
    "        \"function_calling\": True,\n",
    "    },\n",
    ")"
   ]
  },
  {
   "cell_type": "markdown",
   "metadata": {},
   "source": [
    "Make a request to **LLM**:"
   ]
  },
  {
   "cell_type": "code",
   "execution_count": 5,
   "metadata": {},
   "outputs": [],
   "source": [
    "request_result: CreateResult = await client.create([UserMessage(\n",
    "    content=\"What is the capital of France?\",\n",
    "    source=\"user\",\n",
    "), ], )"
   ]
  },
  {
   "cell_type": "markdown",
   "metadata": {},
   "source": [
    "Check request result:"
   ]
  },
  {
   "cell_type": "code",
   "execution_count": 6,
   "metadata": {},
   "outputs": [
    {
     "name": "stdout",
     "output_type": "stream",
     "text": [
      "finish_reason='stop' content='The capital of France is Paris.' usage=RequestUsage(prompt_tokens=14, completion_tokens=8) cached=False logprobs=None thought=None\n"
     ]
    }
   ],
   "source": [
    "print(request_result, )"
   ]
  },
  {
   "cell_type": "markdown",
   "metadata": {},
   "source": [
    "## Define a agent"
   ]
  },
  {
   "cell_type": "markdown",
   "metadata": {},
   "source": [
    "Now that we have set up the `client` and confirmed that it is working, let us create an `AssistantAgent`.\n",
    "Each agent can be assigned a:\n",
    "`name` - A short hand name that will be useful in referencing it in multi-agent flows.\n",
    "`model_client` - The client that you created in the earlier step.\n",
    "`tools` - Available tools that the agent can use to complete a task.\n",
    "`system_message` - The metaprompt that defines the task, behavior and tone of the **LLM**.\n",
    "You can change the system message to see how the **LLM** responds."
   ]
  },
  {
   "cell_type": "code",
   "execution_count": 7,
   "metadata": {},
   "outputs": [],
   "source": [
    "agent: AssistantAgent = AssistantAgent(\n",
    "    name=\"assistant\",\n",
    "    model_client=client,\n",
    "    tools=[],\n",
    "    system_message=\"You are a travel agent that plans great vacations.\",\n",
    ")"
   ]
  },
  {
   "cell_type": "markdown",
   "metadata": {},
   "source": [
    "## Run the agent"
   ]
  },
  {
   "cell_type": "markdown",
   "metadata": {},
   "source": [
    "The below function will run the agent.\n",
    "We use the the `on_message` method to update the agent's state with the new message.\n",
    "In this case, we update the state with a new message from the user which is `\"Plan me a great sunny vacation\"`.\n",
    "You can change the message content to see how the **LLM** responds differently."
   ]
  },
  {
   "cell_type": "code",
   "execution_count": 8,
   "metadata": {},
   "outputs": [],
   "source": [
    "async def assistant_run() -> None:\n",
    "    \"\"\"\n",
    "    Executes a conversational interaction with an AI assistant, formats the\n",
    "    exchange in HTML, and displays the result in an interactive environment.\n",
    "    \"\"\"\n",
    "\n",
    "    user_query: str = \"Plan me a great sunny vacation.\"\n",
    "    html_output: str = \"<div style='margin-bottom:10px'>\"\n",
    "    html_output += \"<div style='font-weight:bold'>User:</div>\"\n",
    "    html_output += f\"<div style='margin-left:20px'>{user_query}</div>\"\n",
    "    html_output += \"</div>\"\n",
    "    request_response: Any = await agent.on_messages(\n",
    "        [TextMessage(\n",
    "            content=user_query,\n",
    "            source=\"user\",\n",
    "        ), ],\n",
    "        cancellation_token=CancellationToken(),\n",
    "    )\n",
    "    html_output += \"<div style='margin-bottom:20px'>\"\n",
    "    html_output += \"<div style='font-weight:bold'>Assistant:</div>\"\n",
    "    html_output += (\n",
    "        \"<div style='margin-left:20px; white-space:pre-wrap'>\" +\n",
    "        f\"{request_response.chat_message.content}</div>\"\n",
    "    )\n",
    "    html_output += \"</div>\"\n",
    "\n",
    "    display(HTML(html_output, ), )"
   ]
  },
  {
   "cell_type": "markdown",
   "metadata": {},
   "source": [
    "Launch the agent workflow:"
   ]
  },
  {
   "cell_type": "code",
   "execution_count": 9,
   "metadata": {},
   "outputs": [
    {
     "data": {
      "text/html": [
       "<div style='margin-bottom:10px'><div style='font-weight:bold'>User:</div><div style='margin-left:20px'>Plan me a great sunny vacation.</div></div><div style='margin-bottom:20px'><div style='font-weight:bold'>Assistant:</div><div style='margin-left:20px; white-space:pre-wrap'>I'd love to help you plan a sunny vacation! Here’s a wonderful vacation idea that combines great weather, beautiful landscapes, and exciting activities:\n",
       "\n",
       "### Destination: Costa Rica\n",
       "\n",
       "**Duration:** 7 Days\n",
       "\n",
       "**Best Time to Visit:** December to April for sunny, dry weather.\n",
       "\n",
       "#### Day 1: Arrival in San José\n",
       "- **Flight:** Arrive at Juan Santamaría International Airport.\n",
       "- **Accommodation:** Stay in a comfortable hotel in the city, like the Gran Hotel Costa Rica.\n",
       "- **Activity:** Take a leisurely evening walk in downtown San José and enjoy a traditional Costa Rican dinner at a local restaurant.\n",
       "\n",
       "#### Day 2: Arenal Volcano\n",
       "- **Transfer:** Drive or take a shuttle to La Fortuna (about 3 hours).\n",
       "- **Accommodation:** Check into a hotel with views of Arenal Volcano, such as Tabacón Thermal Resort & Spa.\n",
       "- **Activity:** Relax in the natural hot springs at Tabacón and enjoy the tropical surroundings.\n",
       "\n",
       "#### Day 3: Arenal Activities\n",
       "- **Morning:** Go on a guided hike in Arenal Volcano National Park to see incredible wildlife and scenic views.\n",
       "- **Afternoon:** Try an adrenaline-pumping activity like zip-lining through the rainforest or taking a canopy tour.\n",
       "- **Evening:** Dinner at a restaurant with a view of the volcano.\n",
       "\n",
       "#### Day 4: Monteverde Cloud Forest\n",
       "- **Transfer:** Travel to Monteverde (about 3.5 hours).\n",
       "- **Accommodation:** Stay at a unique lodge in the cloud forest, like Monteverde Inn.\n",
       "- **Activity:** Explore the Monteverde Cloud Forest Reserve on a guided nature walk, spotting unique wildlife and plants.\n",
       "\n",
       "#### Day 5: Monteverde Adventures\n",
       "- **Morning:** Go on a canopy tour or hanging bridges walk to appreciate the stunning treetop views.\n",
       "- **Afternoon:** Visit a local coffee plantation to learn about Costa Rican coffee production and enjoy a tasting.\n",
       "- **Evening:** Relax at your lodge and enjoy a serene night in the cloud forest.\n",
       "\n",
       "#### Day 6: Manuel Antonio National Park\n",
       "- **Transfer:** Head to Manuel Antonio (about 3 hours).\n",
       "- **Accommodation:** Stay at a hotel near the beach, like La Mariposa Hotel.\n",
       "- **Activity:** Enjoy the afternoon on the beautiful beaches, basking in the sun.\n",
       "\n",
       "#### Day 7: Manuel Antonio National Park\n",
       "- **Morning:** Explore Manuel Antonio National Park, where you can hike trails, see monkeys, sloths, and other wildlife, and enjoy stunning beach views.\n",
       "- **Afternoon:** Take some time to relax on the beach or partake in water activities like snorkeling or paddleboarding.\n",
       "- **Evening:** Have a farewell dinner at a beachfront restaurant, enjoying fresh seafood and local cuisine.\n",
       "\n",
       "#### Optional Activities:\n",
       "- Consider adding a day trip for surfing lessons at Nosara or visit the Osa Peninsula for incredible biodiversity.\n",
       "- If you're interested in marine life, go for a whale-watching tour (best from August to October).\n",
       "\n",
       "#### Travel Tips:\n",
       "- Make sure to pack sunscreen, a hat, and light clothing.\n",
       "- A rental car may be useful for exploring, though guided tours and shuttles are also available.\n",
       "\n",
       "### Conclusion:\n",
       "This itinerary offers a blend of relaxation, adventure, and the chance to experience the natural beauty of Costa Rica while enjoying plenty of sunny weather. Let me know if you’d like any adjustments or additional information!</div></div>"
      ],
      "text/plain": [
       "<IPython.core.display.HTML object>"
      ]
     },
     "metadata": {},
     "output_type": "display_data"
    }
   ],
   "source": [
    "await assistant_run()"
   ]
  }
 ],
 "metadata": {
  "kernelspec": {
   "display_name": ".venv",
   "language": "python",
   "name": "python3"
  },
  "language_info": {
   "codemirror_mode": {
    "name": "ipython",
    "version": 3
   },
   "file_extension": ".py",
   "mimetype": "text/x-python",
   "name": "python",
   "nbconvert_exporter": "python",
   "pygments_lexer": "ipython3",
   "version": "3.12.6"
  }
 },
 "nbformat": 4,
 "nbformat_minor": 2
}
