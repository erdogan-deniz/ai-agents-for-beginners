{
 "cells": [
  {
   "cell_type": "markdown",
   "metadata": {},
   "source": [
    "# Semantic Kernel"
   ]
  },
  {
   "cell_type": "markdown",
   "metadata": {},
   "source": [
    "In this code sample, you will use the [**Semantic Kernel**](https://aka.ms/ai-agents-beginners/semantic-kernel) **AI** framework to create a basic agent.\n",
    "The goal of this sample is to show you the steps that we will later use in the additional code samples when implementing the different agentic patterns."
   ]
  },
  {
   "cell_type": "markdown",
   "metadata": {},
   "source": [
    "## Prepare the project"
   ]
  },
  {
   "cell_type": "markdown",
   "metadata": {},
   "source": [
    "Import necessary packages:"
   ]
  },
  {
   "cell_type": "code",
   "execution_count": 1,
   "metadata": {},
   "outputs": [],
   "source": [
    "import os"
   ]
  },
  {
   "cell_type": "markdown",
   "metadata": {},
   "source": [
    "Import necessary entities:"
   ]
  },
  {
   "cell_type": "code",
   "execution_count": 2,
   "metadata": {},
   "outputs": [],
   "source": [
    "from random import choice\n",
    "from typing import Annotated\n",
    "from openai import AsyncOpenAI\n",
    "from dotenv import load_dotenv\n",
    "from semantic_kernel.functions import kernel_function\n",
    "from semantic_kernel.connectors.ai.open_ai import OpenAIChatCompletion\n",
    "from semantic_kernel.agents import ChatCompletionAgent, ChatHistoryAgentThread"
   ]
  },
  {
   "cell_type": "markdown",
   "metadata": {},
   "source": [
    "Load enviroment for using a system variables:"
   ]
  },
  {
   "cell_type": "code",
   "execution_count": 3,
   "metadata": {},
   "outputs": [],
   "source": [
    "load_dotenv();"
   ]
  },
  {
   "cell_type": "markdown",
   "metadata": {},
   "source": [
    "## Prepare agent functionality"
   ]
  },
  {
   "cell_type": "markdown",
   "metadata": {},
   "source": [
    "In this sample, we will use [**GitHub** models](https://aka.ms/ai-agents-beginners/github-models) for access to the **LLM**.\n",
    "The `ai_model_id` is defined as `gpt-4o-mini`.\n",
    "Try changing the model to another model available on the **GitHub** models marketplace to see the different results.\n",
    "For us to use the **Azure Inference SDK** that is used for the `base_url` for **GitHub** models, we will use the `OpenAIChatCompletion` connector within **Semantic Kernel**.\n",
    "There are also other [available connectors](https://learn.microsoft.com/semantic-kernel/concepts/ai-services/chat-completion) to use **Semantic Kernel** for other model providers."
   ]
  },
  {
   "cell_type": "markdown",
   "metadata": {},
   "source": [
    "Prepare a list of vacation destinations:"
   ]
  },
  {
   "cell_type": "code",
   "execution_count": 4,
   "metadata": {},
   "outputs": [],
   "source": [
    "vacation_destinations: list[str] = [\n",
    "    \"Tokyo, Japan\",\n",
    "    \"Cairo, Egypt\",\n",
    "    \"Paris, France\",\n",
    "    \"New York, USA\",\n",
    "    \"Berlin, Germany\",\n",
    "    \"Bali, Indonesia\",\n",
    "    \"Barcelona, Spain\",\n",
    "    \"Sydney, Australia\",\n",
    "    \"Rio de Janeiro, Brazil\",\n",
    "    \"Cape Town, South Africa\",\n",
    "]"
   ]
  },
  {
   "cell_type": "markdown",
   "metadata": {},
   "source": [
    "Create a plugin class:"
   ]
  },
  {
   "cell_type": "code",
   "execution_count": 5,
   "metadata": {},
   "outputs": [],
   "source": [
    "class DestinationsPlugin:\n",
    "    \"\"\"\n",
    "    A plugin that manages and provides vacation destinations.\n",
    "\n",
    "    :Attributes:\n",
    "        last_destination (str | None): The last destination that was returned.\n",
    "                                       Default: None.\n",
    "        vacation_destinations (list[str]): The list of available destinations.\n",
    "    \"\"\"\n",
    "\n",
    "    def __init__(self, vacation_destinations: list[str]) -> None:\n",
    "        \"\"\"\n",
    "        Initializes the `DestinationsPlugin` with a list of destinations.\n",
    "\n",
    "        :Parameters:\n",
    "            vacation_destinations (list[str]): The list of available\n",
    "                                               destinations.\n",
    "        \"\"\"\n",
    "\n",
    "        self.last_destination: str | None = None\n",
    "        self.vacation_destinations: list[str] = vacation_destinations\n",
    "\n",
    "    @kernel_function(description=\"Returns a random vacation destination.\")\n",
    "    def get_random_vacation_destination(\n",
    "        self\n",
    "    ) -> Annotated[str, \"Returns a random vacation destination.\"]:\n",
    "        \"\"\"\n",
    "        Selects and returns a random vacation destination from the available\n",
    "        options.\n",
    "\n",
    "        :Returns:\n",
    "            str: A randomly selected vacation destination.\n",
    "        \"\"\"\n",
    "\n",
    "        available_destinations: list[str] = self.vacation_destinations.copy()\n",
    "\n",
    "        if self.last_destination and (len(available_destinations, ) > 1):\n",
    "            available_destinations.remove(self.last_destination, )\n",
    "\n",
    "        self.last_destination = choice(available_destinations, )\n",
    "\n",
    "        return self.last_destination"
   ]
  },
  {
   "cell_type": "markdown",
   "metadata": {},
   "source": [
    "## Create a client"
   ]
  },
  {
   "cell_type": "markdown",
   "metadata": {},
   "source": [
    "Create a client instance:"
   ]
  },
  {
   "cell_type": "code",
   "execution_count": 6,
   "metadata": {},
   "outputs": [],
   "source": [
    "client: AsyncOpenAI = AsyncOpenAI(\n",
    "    api_key=os.environ.get(\"GITHUB_TOKEN\", ),\n",
    "    base_url=\"https://models.inference.ai.azure.com/\",\n",
    ")"
   ]
  },
  {
   "cell_type": "markdown",
   "metadata": {},
   "source": [
    "Create an **AI** service that will be used by the `ChatCompletionAgent`:"
   ]
  },
  {
   "cell_type": "code",
   "execution_count": 7,
   "metadata": {},
   "outputs": [],
   "source": [
    "chat_completion_service: OpenAIChatCompletion = OpenAIChatCompletion(\n",
    "    ai_model_id=\"gpt-4o-mini\",\n",
    "    async_client=client,\n",
    ")"
   ]
  },
  {
   "cell_type": "markdown",
   "metadata": {},
   "source": [
    "## Creating the agent"
   ]
  },
  {
   "cell_type": "markdown",
   "metadata": {},
   "source": [
    "Below we create the agent called `TravelAgent`.\n",
    "For this example, we are using very simple instructions.\n",
    "You can change these instructions to see how the agent responds differently."
   ]
  },
  {
   "cell_type": "code",
   "execution_count": 8,
   "metadata": {},
   "outputs": [],
   "source": [
    "agent: ChatCompletionAgent = ChatCompletionAgent(\n",
    "    service=chat_completion_service,\n",
    "    plugins=[\n",
    "        DestinationsPlugin(vacation_destinations=vacation_destinations, ),\n",
    "    ],\n",
    "    name=\"TravelAgent\",\n",
    "    instructions=\"You are a helpful AI agent that can help plan vacations for\" +\n",
    "                 \" customers at random destinations.\",\n",
    ")"
   ]
  },
  {
   "cell_type": "markdown",
   "metadata": {},
   "source": [
    "## Running the agent"
   ]
  },
  {
   "cell_type": "markdown",
   "metadata": {},
   "source": [
    "Now we can run the agent by defining a thread of type `ChatHistoryAgentThread`.\n",
    "Any required system messages are provided to the agent's `invoke_stream` `messages` keyword argument.\n",
    "After these are defined, we create a `user_inputs` that will be what the user is sending to the agent.\n",
    "In this case, we have set this message to `Plan me a sunny vacation.`.\n",
    "Feel free to change this message to see how the agent responds differently."
   ]
  },
  {
   "cell_type": "code",
   "execution_count": 9,
   "metadata": {},
   "outputs": [],
   "source": [
    "async def main() -> None:\n",
    "    \"\"\"\n",
    "    Executes a streaming conversation with an AI agent by processing multiple\n",
    "    user inputs sequentially.\n",
    "    \"\"\"\n",
    "\n",
    "    thread: ChatHistoryAgentThread | None = None\n",
    "    user_inputs: list[str] = [\n",
    "        \"Plan me a day trip.\",\n",
    "        \"Give me a random place for vacation\",\n",
    "    ]\n",
    "\n",
    "    for user_input in user_inputs:\n",
    "        print(f\"\\nUser message:\\n{user_input}\\n\", )\n",
    "\n",
    "        first_chunk: bool = True\n",
    "\n",
    "        async for response in agent.invoke_stream(\n",
    "            messages=user_input,\n",
    "            thread=thread,\n",
    "        ):\n",
    "            if first_chunk:\n",
    "                print(\n",
    "                    f\"{response.name}:\\n\",\n",
    "                    end=\"\",\n",
    "                    flush=True,\n",
    "                )\n",
    "\n",
    "                first_chunk = False\n",
    "\n",
    "            print(\n",
    "                f\"{response}\",\n",
    "                end=\"\",\n",
    "                flush=True,\n",
    "            )\n",
    "\n",
    "            thread = response.thread\n",
    "\n",
    "        print()\n",
    "\n",
    "    await thread.delete() if thread else None"
   ]
  },
  {
   "cell_type": "markdown",
   "metadata": {},
   "source": [
    "Launch the agent workflow:"
   ]
  },
  {
   "cell_type": "code",
   "execution_count": 10,
   "metadata": {},
   "outputs": [
    {
     "name": "stdout",
     "output_type": "stream",
     "text": [
      "\n",
      "User message:\n",
      "Plan me a day trip.\n",
      "\n",
      "TravelAgent:\n",
      "How about a day trip to New York City? Here's a suggested itinerary:\n",
      "\n",
      "### Morning:\n",
      "- **8:00 AM:** Start your day with breakfast at a classic New York diner. Try places like \"Eisenberg's Sandwich Shop\" for a real New York experience.\n",
      "- **9:00 AM:** Visit the **Statue of Liberty**. Take a ferry from Battery Park. Enjoy the views of the skyline as you approach Liberty Island.\n",
      "\n",
      "### Afternoon:\n",
      "- **12:00 PM:** Head back to Manhattan and grab lunch in the Financial District. Consider a stop at \"Fraunces Tavern,\" a historic site with delicious food.\n",
      "- **1:30 PM:** Explore **5th Avenue** and do some shopping. Visit iconic stores like Saks Fifth Avenue or the Apple Store.\n",
      "- **3:00 PM:** Take a stroll through **Central Park**. Rent a bike or simply walk the paths while enjoying the scenery.\n",
      "\n",
      "### Evening:\n",
      "- **5:00 PM:** Visit the **Metropolitan Museum of Art** or the **American Museum of Natural History**. Both are magnificent and offer a break from the hustle and bustle.\n",
      "- **7:00 PM:** Dinner at a popular restaurant in the city. Try places like \"Joe's Pizza\" for a casual meal or \"Ramen Nakazawa\" for something special.\n",
      "- **9:00 PM:** End your trip with a visit to **Times Square**. Enjoy the bright lights, street performers, and indulge in a dessert from one of the nearby cafes.\n",
      "\n",
      "### Tips:\n",
      "- Wear comfortable shoes as you'll be walking a lot.\n",
      "- Consider using the subway for quick transportation between attractions.\n",
      "\n",
      "Have a fantastic day trip in New York City!\n",
      "\n",
      "User message:\n",
      "Give me a random place for vacation\n",
      "\n",
      "TravelAgent:\n",
      "How about a vacation to Sydney, Australia? It's a vibrant city known for its stunning harbor, beautiful beaches, and iconic landmarks. Here are some highlights you can explore during your trip:\n",
      "\n",
      "### Must-See Attractions:\n",
      "1. **Sydney Opera House** - Tour this architectural marvel and possibly catch a performance.\n",
      "2. **Sydney Harbour Bridge** - Climb the bridge for breathtaking views of the harbor.\n",
      "3. **Bondi Beach** - Relax on the beach, try surfing, or take the scenic coastal walk to Coogee Beach.\n",
      "4. **Royal Botanic Garden** - Stroll through the beautiful gardens with views of the opera house and harbor.\n",
      "5. **The Rocks** - Explore this historic area with markets, shops, and restaurants.\n",
      "\n",
      "### Suggested Activities:\n",
      "- **Whale Watching** - Visit during the migration season (May to November) for a chance to see whales.\n",
      "- **Sydney Tower Eye** - Get a panoramic view of the city from the observation deck.\n",
      "- **Taronga Zoo** - Meet native Australian animals and enjoy stunning views of the Sydney skyline.\n",
      "\n",
      "### Culinary Experiences:\n",
      "- Sample fresh seafood at the **Sydney Fish Market**.\n",
      "- Enjoy a meal at one of the waterfront restaurants in Darling Harbour.\n",
      "- Try traditional Australian dishes like meat pies and pavlova in local eateries.\n",
      "\n",
      "### Tips:\n",
      "- The best time to visit is from September to November (spring) or March to May (fall) for pleasant weather.\n",
      "- Consider using public transport, especially the ferry, for scenic travel around the harbor.\n",
      "\n",
      "Have a fantastic vacation in Sydney!\n"
     ]
    }
   ],
   "source": [
    "await main()"
   ]
  }
 ],
 "metadata": {
  "kernelspec": {
   "display_name": ".venv",
   "language": "python",
   "name": "python3"
  },
  "language_info": {
   "codemirror_mode": {
    "name": "ipython",
    "version": 3
   },
   "file_extension": ".py",
   "mimetype": "text/x-python",
   "name": "python",
   "nbconvert_exporter": "python",
   "pygments_lexer": "ipython3",
   "version": "3.12.6"
  }
 },
 "nbformat": 4,
 "nbformat_minor": 2
}
