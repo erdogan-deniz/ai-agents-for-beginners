{
 "cells": [
  {
   "cell_type": "markdown",
   "metadata": {},
   "source": [
    "# Semantic kernel"
   ]
  },
  {
   "cell_type": "markdown",
   "metadata": {},
   "source": [
    "In this code sample, you will use the [**Semantic Kernel**](https://aka.ms/ai-agents-beginners/semantic-kernel) **AI** framework to create a basic agent.\n",
    "The goal of this sample is to show you the steps that we will later use in the additional code samples when implementing the different agentic patterns."
   ]
  },
  {
   "cell_type": "markdown",
   "metadata": {},
   "source": [
    "## Prepare the project"
   ]
  },
  {
   "cell_type": "markdown",
   "metadata": {},
   "source": [
    "Import necessary packages:"
   ]
  },
  {
   "cell_type": "code",
   "execution_count": 1,
   "metadata": {},
   "outputs": [],
   "source": [
    "import os"
   ]
  },
  {
   "cell_type": "markdown",
   "metadata": {},
   "source": [
    "Import necessary entities:"
   ]
  },
  {
   "cell_type": "code",
   "execution_count": 2,
   "metadata": {},
   "outputs": [],
   "source": [
    "from random import choice\n",
    "from typing import Annotated\n",
    "from openai import AsyncOpenAI\n",
    "from dotenv import load_dotenv\n",
    "from semantic_kernel.functions import kernel_function\n",
    "from semantic_kernel.connectors.ai.open_ai import OpenAIChatCompletion\n",
    "from semantic_kernel.agents import ChatCompletionAgent, ChatHistoryAgentThread"
   ]
  },
  {
   "cell_type": "markdown",
   "metadata": {},
   "source": [
    "Load enviroment for using a system variables:"
   ]
  },
  {
   "cell_type": "code",
   "execution_count": 3,
   "metadata": {},
   "outputs": [],
   "source": [
    "load_dotenv();"
   ]
  },
  {
   "cell_type": "markdown",
   "metadata": {},
   "source": [
    "## Prepare agent functionality"
   ]
  },
  {
   "cell_type": "markdown",
   "metadata": {},
   "source": [
    "In this sample, we will use [**GitHub** models](https://aka.ms/ai-agents-beginners/github-models) for access to the **LLM**.\n",
    "The `ai_model_id` is defined as `gpt-4o-mini`.\n",
    "Try changing the model to another model available on the **GitHub** models marketplace to see the different results.\n",
    "For us to use the **Azure Inference SDK** that is used for the `base_url` for **GitHub** models, we will use the `OpenAIChatCompletion` connector within **Semantic Kernel**.\n",
    "There are also other [available connectors](https://learn.microsoft.com/semantic-kernel/concepts/ai-services/chat-completion) to use **Semantic Kernel** for other model providers."
   ]
  },
  {
   "cell_type": "markdown",
   "metadata": {},
   "source": [
    "Prepare a list of vacation destinations:"
   ]
  },
  {
   "cell_type": "code",
   "execution_count": 4,
   "metadata": {},
   "outputs": [],
   "source": [
    "vacation_destinations: list[str] = [\n",
    "    \"Tokyo, Japan\",\n",
    "    \"Cairo, Egypt\",\n",
    "    \"Paris, France\",\n",
    "    \"New York, USA\",\n",
    "    \"Berlin, Germany\",\n",
    "    \"Bali, Indonesia\",\n",
    "    \"Barcelona, Spain\",\n",
    "    \"Sydney, Australia\",\n",
    "    \"Rio de Janeiro, Brazil\",\n",
    "    \"Cape Town, South Africa\",\n",
    "]"
   ]
  },
  {
   "cell_type": "markdown",
   "metadata": {},
   "source": [
    "Create a plugin class:"
   ]
  },
  {
   "cell_type": "code",
   "execution_count": 5,
   "metadata": {},
   "outputs": [],
   "source": [
    "class DestinationsPlugin:\n",
    "    \"\"\"\n",
    "    A plugin that manages and provides vacation destinations.\n",
    "\n",
    "    :Attributes:\n",
    "        last_destination (str | None): The last destination that was returned.\n",
    "                                       Default: None.\n",
    "        vacation_destinations (list[str]): The list of available destinations.\n",
    "    \"\"\"\n",
    "\n",
    "    def __init__(self, vacation_destinations: list[str]) -> None:\n",
    "        \"\"\"\n",
    "        Initializes the `DestinationsPlugin` with a list of destinations.\n",
    "\n",
    "        :Parameters:\n",
    "            vacation_destinations (list[str]): The list of available\n",
    "                                               destinations.\n",
    "        \"\"\"\n",
    "\n",
    "        self.last_destination: str | None = None\n",
    "        self.vacation_destinations: list[str] = vacation_destinations\n",
    "\n",
    "    @kernel_function(description=\"Returns a random vacation destination.\")\n",
    "    def get_random_vacation_destination(\n",
    "        self\n",
    "    ) -> Annotated[str, \"Returns a random vacation destination.\"]:\n",
    "        \"\"\"\n",
    "        Selects and returns a random vacation destination from the available\n",
    "        options.\n",
    "\n",
    "        :Returns:\n",
    "            str: A randomly selected vacation destination.\n",
    "        \"\"\"\n",
    "\n",
    "        available_destinations: list[str] = self.vacation_destinations.copy()\n",
    "\n",
    "        if self.last_destination and (len(available_destinations, ) > 1):\n",
    "            available_destinations.remove(self.last_destination, )\n",
    "\n",
    "        self.last_destination = choice(available_destinations, )\n",
    "\n",
    "        return self.last_destination"
   ]
  },
  {
   "cell_type": "markdown",
   "metadata": {},
   "source": [
    "## Create a client"
   ]
  },
  {
   "cell_type": "markdown",
   "metadata": {},
   "source": [
    "Create a client instance:"
   ]
  },
  {
   "cell_type": "code",
   "execution_count": 6,
   "metadata": {},
   "outputs": [],
   "source": [
    "client: AsyncOpenAI = AsyncOpenAI(\n",
    "    api_key=os.environ.get(\"GITHUB_TOKEN\", ),\n",
    "    base_url=\"https://models.inference.ai.azure.com/\",\n",
    ")"
   ]
  },
  {
   "cell_type": "markdown",
   "metadata": {},
   "source": [
    "Create an **AI** service that will be used by the `ChatCompletionAgent`:"
   ]
  },
  {
   "cell_type": "code",
   "execution_count": 7,
   "metadata": {},
   "outputs": [],
   "source": [
    "chat_completion_service: OpenAIChatCompletion = OpenAIChatCompletion(\n",
    "    ai_model_id=\"gpt-4o-mini\",\n",
    "    async_client=client,\n",
    ")"
   ]
  },
  {
   "cell_type": "markdown",
   "metadata": {},
   "source": [
    "## Creating the agent"
   ]
  },
  {
   "cell_type": "markdown",
   "metadata": {},
   "source": [
    "Below we create the agent called `TravelAgent`.\n",
    "For this example, we are using very simple instructions.\n",
    "You can change these instructions to see how the agent responds differently."
   ]
  },
  {
   "cell_type": "code",
   "execution_count": 8,
   "metadata": {},
   "outputs": [],
   "source": [
    "agent: ChatCompletionAgent = ChatCompletionAgent(\n",
    "    service=chat_completion_service,\n",
    "    plugins=[\n",
    "        DestinationsPlugin(vacation_destinations=vacation_destinations, ),\n",
    "    ],\n",
    "    name=\"TravelAgent\",\n",
    "    instructions=\"You are a helpful AI agent that can help plan vacations for\" +\n",
    "                 \" customers at random destinations.\",\n",
    ")"
   ]
  },
  {
   "cell_type": "markdown",
   "metadata": {},
   "source": [
    "## Running the agent"
   ]
  },
  {
   "cell_type": "markdown",
   "metadata": {},
   "source": [
    "Now we can run the agent by defining a thread of type `ChatHistoryAgentThread`.\n",
    "Any required system messages are provided to the agent's `invoke_stream` `messages` keyword argument.\n",
    "After these are defined, we create a `user_inputs` that will be what the user is sending to the agent.\n",
    "In this case, we have set this message to `Plan me a sunny vacation.`.\n",
    "Feel free to change this message to see how the agent responds differently."
   ]
  },
  {
   "cell_type": "code",
   "execution_count": 9,
   "metadata": {},
   "outputs": [],
   "source": [
    "async def main() -> None:\n",
    "    \"\"\"\n",
    "    ...\n",
    "    \"\"\"\n",
    "\n",
    "    thread: ChatHistoryAgentThread | None = None\n",
    "    user_inputs: list[str] = [\n",
    "        \"Plan me a day trip.\",\n",
    "        \"Give me a random place for vacation\",\n",
    "    ]\n",
    "\n",
    "    for user_input in user_inputs:\n",
    "        print(f\"\\nUser message:\\n{user_input}\\n\", )\n",
    "\n",
    "        first_chunk: bool = True\n",
    "\n",
    "        async for response in agent.invoke_stream(\n",
    "            messages=user_input,\n",
    "            thread=thread,\n",
    "        ):\n",
    "            if first_chunk:\n",
    "                print(\n",
    "                    f\"{response.name}:\\n\",\n",
    "                    end=\"\",\n",
    "                    flush=True,\n",
    "                )\n",
    "\n",
    "                first_chunk = False\n",
    "\n",
    "            print(\n",
    "                f\"{response}\",\n",
    "                end=\"\",\n",
    "                flush=True,\n",
    "            )\n",
    "\n",
    "            thread = response.thread\n",
    "\n",
    "        print()\n",
    "\n",
    "    await thread.delete() if thread else None"
   ]
  },
  {
   "cell_type": "markdown",
   "metadata": {},
   "source": [
    "Launch the agent workflow:"
   ]
  },
  {
   "cell_type": "code",
   "execution_count": 10,
   "metadata": {},
   "outputs": [
    {
     "name": "stdout",
     "output_type": "stream",
     "text": [
      "\n",
      "User message:\n",
      "Plan me a day trip.\n",
      "\n",
      "TravelAgent:\n",
      "Let's plan a day trip in Tokyo, Japan! Here’s a suggested itinerary:\n",
      "\n",
      "### Morning:\n",
      "- **Breakfast at Tsukiji Outer Market**: Start your day with a traditional sushi breakfast at one of the market's seafood restaurants.\n",
      "- **Visit Senso-ji Temple**: Head to Asakusa to explore Tokyo's oldest temple. Don't forget to stroll down Nakamise Street for some souvenirs and snacks.\n",
      "\n",
      "### Afternoon:\n",
      "- **Lunch in Akihabara**: Enjoy a lunch of Japanese curry or ramen in the electric town known for its anime and manga culture.\n",
      "- **Explore Akihabara**: Spend time browsing the electronics shops, gaming stores, and themed cafes.\n",
      "  \n",
      "### Late Afternoon:\n",
      "- **Shibuya Crossing**: Experience the hustle and bustle of Shibuya by crossing the famous Shibuya Scramble. \n",
      "- **Shopping in Harajuku**: Walk to Harajuku to visit trendy shops on Takeshita Street.\n",
      "\n",
      "### Evening:\n",
      "- **Dinner in Shinjuku**: Head to Shinjuku for dinner. Try an izakaya (Japanese pub) or a teppanyaki restaurant.\n",
      "- **Tokyo Metropolitan Government Building**: End your day by taking in the view of Tokyo from the observation deck.\n",
      "\n",
      "### Additional Tips:\n",
      "- Consider getting a prepaid Suica or Pasmo card for ease of travel on public transport.\n",
      "- Wear comfortable shoes, as you’ll be doing a lot of walking!\n",
      "\n",
      "Enjoy your day trip in Tokyo!\n",
      "\n",
      "User message:\n",
      "Give me a random place for vacation\n",
      "\n",
      "TravelAgent:\n",
      "Your random vacation destination is **Cape Town, South Africa**! \n",
      "\n",
      "### Highlights to Explore in Cape Town:\n",
      "- **Table Mountain**: Take a cable car or hike to the top for stunning views of the city and ocean.\n",
      "- **Cape of Good Hope**: Visit this iconic landmark and enjoy breathtaking coastal scenery.\n",
      "- **Boulders Beach**: Meet the resident African penguin colony at this beautiful beach.\n",
      "- **V&A Waterfront**: Enjoy shopping, dining, and entertainment at this vibrant harbor area.\n",
      "- **Kirstenbosch National Botanical Garden**: Explore one of the most beautiful botanical gardens in the world.\n",
      "\n",
      "### Activities:\n",
      "- Wine tasting in nearby Stellenbosch or Franschhoek.\n",
      "- Take a scenic drive along Chapman's Peak.\n",
      "- Explore the historic Robben Island, where Nelson Mandela was imprisoned.\n",
      "\n",
      "Enjoy planning your trip to Cape Town!\n"
     ]
    }
   ],
   "source": [
    "await main()"
   ]
  }
 ],
 "metadata": {
  "kernelspec": {
   "display_name": ".venv",
   "language": "python",
   "name": "python3"
  },
  "language_info": {
   "codemirror_mode": {
    "name": "ipython",
    "version": 3
   },
   "file_extension": ".py",
   "mimetype": "text/x-python",
   "name": "python",
   "nbconvert_exporter": "python",
   "pygments_lexer": "ipython3",
   "version": "3.12.6"
  }
 },
 "nbformat": 4,
 "nbformat_minor": 2
}
