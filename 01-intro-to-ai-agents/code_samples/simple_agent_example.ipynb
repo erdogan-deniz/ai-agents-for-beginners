{
 "cells": [
  {
   "cell_type": "markdown",
   "metadata": {},
   "source": [
    "# Semantic kernel"
   ]
  },
  {
   "cell_type": "markdown",
   "metadata": {},
   "source": [
    "In this code sample, you will use the [**Semantic Kernel**](https://aka.ms/ai-agents-beginners/semantic-kernel) **AI** framework to create a basic agent.\n",
    "The goal of this sample is to show you the steps that we will later use in the additional code samples when implementing the different agentic patterns."
   ]
  },
  {
   "cell_type": "markdown",
   "metadata": {},
   "source": [
    "## Prepare the project"
   ]
  },
  {
   "cell_type": "markdown",
   "metadata": {},
   "source": [
    "Import necessary packages:"
   ]
  },
  {
   "cell_type": "code",
   "execution_count": 1,
   "metadata": {},
   "outputs": [],
   "source": [
    "import os"
   ]
  },
  {
   "cell_type": "markdown",
   "metadata": {},
   "source": [
    "Import necessary entities:"
   ]
  },
  {
   "cell_type": "code",
   "execution_count": 2,
   "metadata": {},
   "outputs": [],
   "source": [
    "from random import choice\n",
    "from typing import Annotated\n",
    "from openai import AsyncOpenAI\n",
    "from dotenv import load_dotenv\n",
    "from semantic_kernel.functions import kernel_function\n",
    "from semantic_kernel.connectors.ai.open_ai import OpenAIChatCompletion\n",
    "from semantic_kernel.agents import ChatCompletionAgent, ChatHistoryAgentThread"
   ]
  },
  {
   "cell_type": "markdown",
   "metadata": {},
   "source": [
    "Load enviroment for using a system variables:"
   ]
  },
  {
   "cell_type": "code",
   "execution_count": 3,
   "metadata": {},
   "outputs": [],
   "source": [
    "load_dotenv();"
   ]
  },
  {
   "cell_type": "markdown",
   "metadata": {},
   "source": [
    "## Prepare agent functionality"
   ]
  },
  {
   "cell_type": "markdown",
   "metadata": {},
   "source": [
    "In this sample, we will use [**GitHub** models](https://aka.ms/ai-agents-beginners/github-models) for access to the **LLM**.\n",
    "The `ai_model_id` is defined as `gpt-4o-mini`.\n",
    "Try changing the model to another model available on the **GitHub** models marketplace to see the different results.\n",
    "For us to use the **Azure Inference SDK** that is used for the `base_url` for **GitHub** models, we will use the `OpenAIChatCompletion` connector within **Semantic Kernel**.\n",
    "There are also other [available connectors](https://learn.microsoft.com/semantic-kernel/concepts/ai-services/chat-completion) to use **Semantic Kernel** for other model providers."
   ]
  },
  {
   "cell_type": "markdown",
   "metadata": {},
   "source": [
    "Prepare a list of vacation destinations:"
   ]
  },
  {
   "cell_type": "code",
   "execution_count": 4,
   "metadata": {},
   "outputs": [],
   "source": [
    "vacation_destinations: list[str] = [\n",
    "    \"Tokyo, Japan\",\n",
    "    \"Cairo, Egypt\",\n",
    "    \"Paris, France\",\n",
    "    \"New York, USA\",\n",
    "    \"Berlin, Germany\",\n",
    "    \"Bali, Indonesia\",\n",
    "    \"Barcelona, Spain\",\n",
    "    \"Sydney, Australia\",\n",
    "    \"Rio de Janeiro, Brazil\",\n",
    "    \"Cape Town, South Africa\",\n",
    "]"
   ]
  },
  {
   "cell_type": "markdown",
   "metadata": {},
   "source": [
    "Create a plugin class:"
   ]
  },
  {
   "cell_type": "code",
   "execution_count": 5,
   "metadata": {},
   "outputs": [],
   "source": [
    "class DestinationsPlugin:\n",
    "    \"\"\"\n",
    "    A plugin that manages and provides vacation destinations.\n",
    "\n",
    "    :Attributes:\n",
    "        last_destination (str | None): The last destination that was returned.\n",
    "                                       Default: None.\n",
    "        vacation_destinations (list[str]): The list of available destinations.\n",
    "    \"\"\"\n",
    "\n",
    "    def __init__(self, vacation_destinations: list[str]) -> None:\n",
    "        \"\"\"\n",
    "        Initializes the `DestinationsPlugin` with a list of destinations.\n",
    "\n",
    "        :Parameters:\n",
    "            vacation_destinations (list[str]): The list of available\n",
    "                                               destinations.\n",
    "        \"\"\"\n",
    "\n",
    "        self.last_destination: str | None = None\n",
    "        self.vacation_destinations: list[str] = vacation_destinations\n",
    "\n",
    "    @kernel_function(description=\"Returns a random vacation destination.\")\n",
    "    def get_random_vacation_destination(\n",
    "        self\n",
    "    ) -> Annotated[str, \"Returns a random vacation destination.\"]:\n",
    "        \"\"\"\n",
    "        Selects and returns a random vacation destination from the available\n",
    "        options.\n",
    "\n",
    "        :Returns:\n",
    "            str: A randomly selected vacation destination.\n",
    "        \"\"\"\n",
    "\n",
    "        available_destinations: list[str] = self.vacation_destinations.copy()\n",
    "\n",
    "        if self.last_destination and (len(available_destinations, ) > 1):\n",
    "            available_destinations.remove(self.last_destination, )\n",
    "\n",
    "        self.last_destination = choice(available_destinations, )\n",
    "\n",
    "        return self.last_destination"
   ]
  },
  {
   "cell_type": "markdown",
   "metadata": {},
   "source": [
    "## Create a client"
   ]
  },
  {
   "cell_type": "markdown",
   "metadata": {},
   "source": [
    "Create a client instance:"
   ]
  },
  {
   "cell_type": "code",
   "execution_count": 6,
   "metadata": {},
   "outputs": [],
   "source": [
    "client: AsyncOpenAI = AsyncOpenAI(\n",
    "    api_key=os.environ.get(\"GITHUB_TOKEN\", ),\n",
    "    base_url=\"https://models.inference.ai.azure.com/\",\n",
    ")"
   ]
  },
  {
   "cell_type": "markdown",
   "metadata": {},
   "source": [
    "Create an **AI** service that will be used by the `ChatCompletionAgent`:"
   ]
  },
  {
   "cell_type": "code",
   "execution_count": 7,
   "metadata": {},
   "outputs": [],
   "source": [
    "chat_completion_service: OpenAIChatCompletion = OpenAIChatCompletion(\n",
    "    ai_model_id=\"gpt-4o-mini\",\n",
    "    async_client=client,\n",
    ")"
   ]
  },
  {
   "cell_type": "markdown",
   "metadata": {},
   "source": [
    "## Creating the agent"
   ]
  },
  {
   "cell_type": "markdown",
   "metadata": {},
   "source": [
    "Below we create the agent called `TravelAgent`.\n",
    "For this example, we are using very simple instructions.\n",
    "You can change these instructions to see how the agent responds differently."
   ]
  },
  {
   "cell_type": "code",
   "execution_count": 8,
   "metadata": {},
   "outputs": [],
   "source": [
    "agent: ChatCompletionAgent = ChatCompletionAgent(\n",
    "    service=chat_completion_service,\n",
    "    plugins=[\n",
    "        DestinationsPlugin(vacation_destinations=vacation_destinations, ),\n",
    "    ],\n",
    "    name=\"TravelAgent\",\n",
    "    instructions=\"You are a helpful AI agent that can help plan vacations for\" +\n",
    "                 \" customers at random destinations.\",\n",
    ")"
   ]
  },
  {
   "cell_type": "markdown",
   "metadata": {},
   "source": [
    "## Running the agent"
   ]
  },
  {
   "cell_type": "markdown",
   "metadata": {},
   "source": [
    "Now we can run the agent by defining a thread of type `ChatHistoryAgentThread`.\n",
    "Any required system messages are provided to the agent's `invoke_stream` `messages` keyword argument.\n",
    "After these are defined, we create a `user_inputs` that will be what the user is sending to the agent.\n",
    "In this case, we have set this message to `Plan me a sunny vacation.`.\n",
    "Feel free to change this message to see how the agent responds differently."
   ]
  },
  {
   "cell_type": "code",
   "execution_count": 9,
   "metadata": {},
   "outputs": [],
   "source": [
    "async def main() -> None:\n",
    "    \"\"\"\n",
    "    ...\n",
    "    \"\"\"\n",
    "\n",
    "    thread: ChatHistoryAgentThread | None = None\n",
    "    user_inputs: list[str] = [\n",
    "        \"Plan me a day trip.\",\n",
    "        \"Give me a random place for vacation\",\n",
    "    ]\n",
    "\n",
    "    for user_input in user_inputs:\n",
    "        print(f\"\\nUser message:\\n{user_input}\\n\", )\n",
    "\n",
    "        first_chunk: bool = True\n",
    "\n",
    "        async for response in agent.invoke_stream(\n",
    "            messages=user_input,\n",
    "            thread=thread,\n",
    "        ):\n",
    "            if first_chunk:\n",
    "                print(\n",
    "                    f\"{response.name}:\\n\",\n",
    "                    end=\"\",\n",
    "                    flush=True,\n",
    "                )\n",
    "\n",
    "                first_chunk = False\n",
    "\n",
    "            print(\n",
    "                f\"{response}\",\n",
    "                end=\"\",\n",
    "                flush=True,\n",
    "            )\n",
    "\n",
    "            thread = response.thread\n",
    "\n",
    "        print()\n",
    "\n",
    "    await thread.delete() if thread else None"
   ]
  },
  {
   "cell_type": "markdown",
   "metadata": {},
   "source": [
    "Launch the agent workflow:"
   ]
  },
  {
   "cell_type": "code",
   "execution_count": 10,
   "metadata": {},
   "outputs": [
    {
     "name": "stdout",
     "output_type": "stream",
     "text": [
      "\n",
      "User message:\n",
      "Plan me a day trip.\n",
      "\n",
      "TravelAgent:\n",
      "How about a day trip to Cape Town, South Africa? Here's a suggested itinerary for your day:\n",
      "\n",
      "### Morning\n",
      "- **Sunrise at Table Mountain**: Start your day with a breathtaking sunrise view from Table Mountain. You can either hike up or take the cable car for stunning panoramic views of the city.\n",
      "- **Breakfast at a Local Café**: After your hike or cable car ride, enjoy a hearty breakfast at a local café. Try the famous South African dish, \"shakshuka,\" or enjoy some fresh fruit and baked goods.\n",
      "\n",
      "### Mid-Morning\n",
      "- **Visit the V&A Waterfront**: Explore the vibrant V&A Waterfront, where you can shop, enjoy street performances, and visit the Two Oceans Aquarium. Don’t forget to take some time to enjoy the waterfront views.\n",
      "\n",
      "### Afternoon\n",
      "- **Lunch at the Waterfront**: Enjoy lunch at one of the many restaurants at the Waterfront, offering fresh seafood and local cuisine.\n",
      "- **Take a Ferry to Robben Island**: After lunch, take a ferry to Robben Island, where you can learn about the history of Nelson Mandela and the fight against apartheid. It’s a powerful and educational experience.\n",
      "\n",
      "### Late Afternoon\n",
      "- **Visit Kirstenbosch National Botanical Garden**: Head to Kirstenbosch to stroll through some of the most beautiful gardens in the world. It's a perfect spot to relax and enjoy nature.\n",
      "\n",
      "### Evening\n",
      "- **Dinner in Camps Bay**: End your day with dinner at one of the beachfront restaurants in Camps Bay. Enjoy delicious local dishes while watching the sunset over the ocean.\n",
      "\n",
      "### Optional\n",
      "- If you have more time, consider stopping by the Cape of Good Hope for some stunning coastal views along the way.\n",
      "\n",
      "Enjoy your day trip to Cape Town!\n",
      "\n",
      "User message:\n",
      "Give me a random place for vacation\n",
      "\n",
      "TravelAgent:\n",
      "How about a vacation in Tokyo, Japan? Tokyo is a vibrant city that seamlessly blends tradition with modernity, offering a plethora of experiences. From ancient temples to cutting-edge technology, there's something for everyone. Enjoy delicious cuisine, explore bustling markets, and take in the stunning city skyline!\n"
     ]
    }
   ],
   "source": [
    "await main()"
   ]
  }
 ],
 "metadata": {
  "kernelspec": {
   "display_name": ".venv",
   "language": "python",
   "name": "python3"
  },
  "language_info": {
   "codemirror_mode": {
    "name": "ipython",
    "version": 3
   },
   "file_extension": ".py",
   "mimetype": "text/x-python",
   "name": "python",
   "nbconvert_exporter": "python",
   "pygments_lexer": "ipython3",
   "version": "3.12.6"
  }
 },
 "nbformat": 4,
 "nbformat_minor": 2
}
