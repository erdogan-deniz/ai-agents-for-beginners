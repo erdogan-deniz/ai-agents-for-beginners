{
 "cells": [
  {
   "cell_type": "markdown",
   "metadata": {},
   "source": [
    "# Azure AI Agent"
   ]
  },
  {
   "cell_type": "markdown",
   "metadata": {},
   "source": [
    "## Prepare the project"
   ]
  },
  {
   "cell_type": "markdown",
   "metadata": {},
   "source": [
    "Import necessary packages:"
   ]
  },
  {
   "cell_type": "code",
   "execution_count": 1,
   "metadata": {},
   "outputs": [],
   "source": [
    "import os"
   ]
  },
  {
   "cell_type": "markdown",
   "metadata": {},
   "source": [
    "Import necessary entities:"
   ]
  },
  {
   "cell_type": "code",
   "execution_count": null,
   "metadata": {},
   "outputs": [],
   "source": [
    "from typing import Any\n",
    "from pathlib import Path\n",
    "from datetime import datetime\n",
    "from dotenv import load_dotenv\n",
    "from azure.ai.projects import AIProjectClient\n",
    "from IPython.display import (\n",
    "    HTML,\n",
    "    Image,\n",
    "    display,\n",
    ")\n",
    "from azure.identity import DefaultAzureCredential\n",
    "from azure.ai.agents.models import CodeInterpreterTool"
   ]
  },
  {
   "cell_type": "markdown",
   "metadata": {},
   "source": [
    "Load enviroment for using a system variables:"
   ]
  },
  {
   "cell_type": "code",
   "execution_count": null,
   "metadata": {},
   "outputs": [],
   "source": [
    "load_dotenv();"
   ]
  },
  {
   "cell_type": "markdown",
   "metadata": {},
   "source": []
  },
  {
   "cell_type": "code",
   "execution_count": null,
   "metadata": {},
   "outputs": [
    {
     "ename": "KeyError",
     "evalue": "'PROJECT_ENDPOINT'",
     "output_type": "error",
     "traceback": [
      "\u001b[31m---------------------------------------------------------------------------\u001b[39m",
      "\u001b[31mKeyError\u001b[39m                                  Traceback (most recent call last)",
      "\u001b[36mCell\u001b[39m\u001b[36m \u001b[39m\u001b[32mIn[2]\u001b[39m\u001b[32m, line 1\u001b[39m\n\u001b[32m----> \u001b[39m\u001b[32m1\u001b[39m project_endpoint = \u001b[43mos\u001b[49m\u001b[43m.\u001b[49m\u001b[43menviron\u001b[49m\u001b[43m[\u001b[49m\u001b[33;43m\"\u001b[39;49m\u001b[33;43mPROJECT_ENDPOINT\u001b[39;49m\u001b[33;43m\"\u001b[39;49m\u001b[43m]\u001b[49m\n\u001b[32m      2\u001b[39m project_client = AIProjectClient(\n\u001b[32m      3\u001b[39m     endpoint=project_endpoint,\n\u001b[32m      4\u001b[39m     \u001b[38;5;66;03m# Use Azure Default Credential for authentication\u001b[39;00m\n\u001b[32m      5\u001b[39m     credential=DefaultAzureCredential(),\n\u001b[32m      6\u001b[39m )\n",
      "\u001b[36mFile \u001b[39m\u001b[32m<frozen os>:714\u001b[39m, in \u001b[36m__getitem__\u001b[39m\u001b[34m(self, key)\u001b[39m\n",
      "\u001b[31mKeyError\u001b[39m: 'PROJECT_ENDPOINT'"
     ]
    }
   ],
   "source": [
    "project_endpoint = os.environ[\"PROJECT_ENDPOINT\"]\n",
    "project_client = AIProjectClient(\n",
    "    endpoint=project_endpoint,\n",
    "    credential=DefaultAzureCredential(),\n",
    ")"
   ]
  },
  {
   "cell_type": "code",
   "execution_count": null,
   "metadata": {},
   "outputs": [
    {
     "data": {
      "text/html": [
       "<h2>Azure AI Agent Execution</h2><div><strong>Created agent</strong> with ID: asst_BehQldbWIkw0LsJPj1N38FA8</div><div><strong>Created thread</strong> with ID: thread_cvWuXbcYkne8rovyAbzV8v1N</div><div style='margin:15px 0; padding:10px; background-color:#f5f5f5; border-left:4px solid #007bff; border-radius:4px;'><strong>User:</strong><br><div style='margin-left:15px'>Could you please create a bar chart for the operating profit using the following data and provide the file to me? Bali: 100 Travelers, Paris: 356 Travelers, London: 900 Travelers, Tokyo: 850 Travellers</div></div><div style='color:#007bff'><i>Processing request...</i></div>"
      ],
      "text/plain": [
       "<IPython.core.display.HTML object>"
      ]
     },
     "metadata": {},
     "output_type": "display_data"
    },
    {
     "ename": "AttributeError",
     "evalue": "'AgentsClient' object has no attribute 'list_messages'",
     "output_type": "error",
     "traceback": [
      "\u001b[31m---------------------------------------------------------------------------\u001b[39m",
      "\u001b[31mAttributeError\u001b[39m                            Traceback (most recent call last)",
      "\u001b[36mCell\u001b[39m\u001b[36m \u001b[39m\u001b[32mIn[3]\u001b[39m\u001b[32m, line 137\u001b[39m\n\u001b[32m    134\u001b[39m             display(Image(img_file))\n\u001b[32m    136\u001b[39m \u001b[38;5;66;03m# Execute the function\u001b[39;00m\n\u001b[32m--> \u001b[39m\u001b[32m137\u001b[39m \u001b[38;5;28;01mawait\u001b[39;00m run_agent_with_visualization()\n",
      "\u001b[36mCell\u001b[39m\u001b[36m \u001b[39m\u001b[32mIn[3]\u001b[39m\u001b[32m, line 58\u001b[39m, in \u001b[36mrun_agent_with_visualization\u001b[39m\u001b[34m()\u001b[39m\n\u001b[32m     55\u001b[39m     html_output += \u001b[33mf\u001b[39m\u001b[33m\"\u001b[39m\u001b[33m<div style=\u001b[39m\u001b[33m'\u001b[39m\u001b[33mcolor:red\u001b[39m\u001b[33m'\u001b[39m\u001b[33m><strong>Run failed:</strong> \u001b[39m\u001b[38;5;132;01m{\u001b[39;00mrun.last_error\u001b[38;5;132;01m}\u001b[39;00m\u001b[33m</div>\u001b[39m\u001b[33m\"\u001b[39m\n\u001b[32m     57\u001b[39m \u001b[38;5;66;03m# Get messages from the thread\u001b[39;00m\n\u001b[32m---> \u001b[39m\u001b[32m58\u001b[39m messages = \u001b[43mproject_client\u001b[49m\u001b[43m.\u001b[49m\u001b[43magents\u001b[49m\u001b[43m.\u001b[49m\u001b[43mlist_messages\u001b[49m(thread_id=thread.id)\n\u001b[32m     60\u001b[39m \u001b[38;5;66;03m# Format assistant response\u001b[39;00m\n\u001b[32m     61\u001b[39m html_output += \u001b[33m\"\u001b[39m\u001b[33m<div style=\u001b[39m\u001b[33m'\u001b[39m\u001b[33mmargin:15px 0; padding:10px; background-color:#f0f7ff; border-left:4px solid #28a745; border-radius:4px;\u001b[39m\u001b[33m'\u001b[39m\u001b[33m>\u001b[39m\u001b[33m\"\u001b[39m\n",
      "\u001b[31mAttributeError\u001b[39m: 'AgentsClient' object has no attribute 'list_messages'"
     ]
    }
   ],
   "source": [
    "async def run_agent_with_visualization():\n",
    "    \"\"\"\n",
    "    ...\n",
    "    \"\"\"\n",
    "\n",
    "    html_output = \"<h2>Azure AI Agent Execution</h2>\"\n",
    "\n",
    "    with project_client:\n",
    "        code_interpreter = CodeInterpreterTool()\n",
    "        agent = project_client.agents.create_agent(\n",
    "            model=\"gpt-4o\",\n",
    "            name=\"my-agent\",\n",
    "            instructions=\"You are helpful agent\",\n",
    "            tools=code_interpreter.definitions,\n",
    "        )\n",
    "        html_output += f\"<div><strong>Created agent</strong> with ID: {agent.id}</div>\"\n",
    "        thread = project_client.agents.threads.create()\n",
    "        html_output += f\"<div><strong>Created thread</strong> with ID: {thread.id}</div>\"\n",
    "        user_query = \"Could you please create a bar chart for the operating profit using the following data and provide the file to me? Bali: 100 Travelers, Paris: 356 Travelers, London: 900 Travelers, Tokyo: 850 Travellers\"\n",
    "        html_output += \"<div style='margin:15px 0; padding:10px; background-color:#f5f5f5; border-left:4px solid #007bff; border-radius:4px;'>\"\n",
    "        html_output += \"<strong>User:</strong><br>\"\n",
    "        html_output += f\"<div style='margin-left:15px'>{user_query}</div>\"\n",
    "        html_output += \"</div>\"\n",
    "        message = project_client.agents.messages.create(\n",
    "            thread_id=thread.id,\n",
    "            role=\"user\",\n",
    "            content=user_query,\n",
    "        )\n",
    "\n",
    "        display(HTML(\n",
    "            html_output + \"<div style='color:#007bff'><i>Processing request...</i></div>\"))\n",
    "\n",
    "        run = project_client.agents.runs.create_and_process(\n",
    "            thread_id=thread.id, agent_id=agent.id)\n",
    "\n",
    "        status_color = 'green' if run.status == 'completed' else 'red'\n",
    "        html_output += f\"<div><strong>Run finished</strong> with status: <span style='color:{status_color}'>{run.status}</span></div>\"\n",
    "\n",
    "        if run.status == \"failed\":\n",
    "            html_output += f\"<div style='color:red'><strong>Run failed:</strong> {run.last_error}</div>\"\n",
    "\n",
    "        messages = project_client.agents.messages.list(thread_id=thread.id)\n",
    "\n",
    "        html_output += \"<div style='margin:15px 0; padding:10px; background-color:#f0f7ff; border-left:4px solid #28a745; border-radius:4px;'>\"\n",
    "        html_output += \"<strong>Assistant:</strong><br>\"\n",
    "\n",
    "        try:\n",
    "            assistant_msgs = [msg for msg in messages if hasattr(\n",
    "                msg, 'role') and msg.role == \"assistant\"]\n",
    "\n",
    "            if assistant_msgs:\n",
    "                last_msg = assistant_msgs[-1]\n",
    "                if hasattr(last_msg, 'content'):\n",
    "                    if isinstance(last_msg.content, list):\n",
    "                        for content_item in last_msg.content:\n",
    "                            if hasattr(content_item, 'type') and content_item.type == \"text\":\n",
    "                                html_output += f\"<div style='margin-left:15px; white-space:pre-wrap'>{content_item.text.value}</div>\"\n",
    "                    elif isinstance(last_msg.content, str):\n",
    "                        html_output += f\"<div style='margin-left:15px; white-space:pre-wrap'>{last_msg.content}</div>\"\n",
    "\n",
    "            if not assistant_msgs:\n",
    "                if hasattr(messages, 'data'):\n",
    "                    for msg in messages.data:\n",
    "                        if hasattr(msg, 'role') and msg.role == \"assistant\":\n",
    "                            if hasattr(msg, 'content'):\n",
    "                                html_output += f\"<div style='margin-left:15px; white-space:pre-wrap'>{msg.content}</div>\"\n",
    "\n",
    "        except Exception as e:\n",
    "            html_output += f\"<div style='color:red'><strong>Error processing messages:</strong> {str(e)}</div>\"\n",
    "\n",
    "        html_output += \"</div>\"\n",
    "        saved_images = []\n",
    "\n",
    "        try:\n",
    "            if hasattr(messages, 'image_contents'):\n",
    "                for image_content in messages.image_contents:\n",
    "                    file_id = image_content.image_file.file_id\n",
    "                    file_name = f\"{file_id}_image_file.png\"\n",
    "                    project_client.agents.save_file(\n",
    "                        file_id=file_id, file_name=file_name)\n",
    "                    saved_images.append(file_name)\n",
    "                    html_output += f\"<div style='margin-top:10px'><strong>Generated Image:</strong> {file_name}</div>\"\n",
    "        except Exception as e:\n",
    "            html_output += f\"<div style='color:orange'><i>Note: No images found or error processing images</i></div>\"\n",
    "\n",
    "        try:\n",
    "            if hasattr(messages, 'file_path_annotations'):\n",
    "                for file_path_annotation in messages.file_path_annotations:\n",
    "                    file_name = Path(file_path_annotation.text).name\n",
    "                    project_client.agents.save_file(\n",
    "                        file_id=file_path_annotation.file_path.file_id, file_name=file_name)\n",
    "                    html_output += \"<div style='margin:10px 0; padding:8px; background-color:#f8f9fa; border:1px solid #ddd; border-radius:4px;'>\"\n",
    "                    html_output += f\"<strong>Generated File:</strong> {file_name}<br>\"\n",
    "                    html_output += f\"<strong>Type:</strong> {file_path_annotation.type}<br>\"\n",
    "                    html_output += \"</div>\"\n",
    "        except Exception as e:\n",
    "            html_output += f\"<div style='color:orange'><i>Note: No file annotations found or error processing files</i></div>\"\n",
    "\n",
    "        project_client.agents.delete_agent(agent.id)\n",
    "        html_output += \"<div style='margin-top:10px'><i>Agent deleted after completion</i></div>\"\n",
    "\n",
    "        display(HTML(html_output))\n",
    "\n",
    "        for img_file in saved_images:\n",
    "            display(Image(img_file))\n"
   ]
  },
  {
   "cell_type": "code",
   "execution_count": null,
   "metadata": {},
   "outputs": [],
   "source": [
    "# Execute the function\n",
    "await run_agent_with_visualization()"
   ]
  }
 ],
 "metadata": {
  "kernelspec": {
   "display_name": ".venv",
   "language": "python",
   "name": "python3"
  },
  "language_info": {
   "codemirror_mode": {
    "name": "ipython",
    "version": 3
   },
   "file_extension": ".py",
   "mimetype": "text/x-python",
   "name": "python",
   "nbconvert_exporter": "python",
   "pygments_lexer": "ipython3",
   "version": "3.12.6"
  }
 },
 "nbformat": 4,
 "nbformat_minor": 2
}
